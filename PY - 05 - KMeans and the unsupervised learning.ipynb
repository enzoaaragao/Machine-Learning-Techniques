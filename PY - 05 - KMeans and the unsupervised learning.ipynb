{
 "cells": [
  {
   "cell_type": "markdown",
   "id": "e87ff0c1",
   "metadata": {},
   "source": [
    "## K-means e o aprendizado não supervisionado\n",
    "\n",
    " \n",
    "\n",
    "#### Motivação\n",
    "\n",
    "\n",
    "- Criação da base de dados sintética\n",
    "\n",
    "- Treinamento do K-means\n",
    "\n",
    "- Visualização dos resultados\n",
    "\n",
    "- Previsão em novos dados\n",
    "\n",
    "- Avaliação do nùmero de clusters necessàrios\n",
    "\n",
    " \n",
    "\n",
    "________________________________________________________\n"
   ]
  },
  {
   "cell_type": "code",
   "execution_count": 1,
   "id": "b359d0c8",
   "metadata": {},
   "outputs": [],
   "source": [
    "# Import libraries\n",
    "from sklearn.cluster import KMeans\n",
    "import matplotlib.pyplot as plt\n",
    "import pandas as pd\n",
    "import numpy as np\n",
    "\n",
    "%matplotlib inline"
   ]
  },
  {
   "cell_type": "markdown",
   "id": "69347fc8",
   "metadata": {},
   "source": [
    "--------------------"
   ]
  },
  {
   "cell_type": "markdown",
   "id": "4977a5b0",
   "metadata": {},
   "source": [
    "### Create a synthetic database"
   ]
  },
  {
   "cell_type": "code",
   "execution_count": 4,
   "id": "15243a3a",
   "metadata": {},
   "outputs": [],
   "source": [
    "base = 2*np.random.rand(300, 2)\n",
    "base[100:200, :] = base[100:200, :] + 2 + np.random.rand(100, 1)\n",
    "base[200:300, :] = base[100:200, :] + 2.5 + np.random.rand(100, 1)"
   ]
  },
  {
   "cell_type": "code",
   "execution_count": 5,
   "id": "deb2d729",
   "metadata": {},
   "outputs": [
    {
     "data": {
      "image/png": "[encoded data removed]",
      "text/plain": [
       "<Figure size 720x432 with 1 Axes>"
      ]
     },
     "metadata": {
      "needs_background": "light"
     },
     "output_type": "display_data"
    }
   ],
   "source": [
    "# Visualize the data\n",
    "plt.figure(figsize = (10,6))\n",
    "plt.scatter(base[:, 0], base[:, 1], s = 30, color = \"blue\")\n",
    "plt.title('Base de dados para o K-means')\n",
    "plt.xlabel('Eixo X')\n",
    "plt.ylabel('Eixo Y');"
   ]
  },
  {
   "cell_type": "markdown",
   "id": "7a6c0822",
   "metadata": {},
   "source": [
    "----------------------"
   ]
  },
  {
   "cell_type": "markdown",
   "id": "9ed15f0d",
   "metadata": {},
   "source": [
    "### Training K-means"
   ]
  },
  {
   "cell_type": "code",
   "execution_count": 7,
   "id": "0445235a",
   "metadata": {},
   "outputs": [],
   "source": [
    "kmodel = KMeans(n_clusters = 3, random_state = 42)\n",
    "clusters = kmodel.fit(base)"
   ]
  },
  {
   "cell_type": "code",
   "execution_count": 8,
   "id": "31bc7f97",
   "metadata": {},
   "outputs": [
    {
     "data": {
      "text/plain": [
       "array([[3.45087043, 3.60303705],\n",
       "       [6.45433528, 6.6065019 ],\n",
       "       [1.02336445, 0.99013901]])"
      ]
     },
     "execution_count": 8,
     "metadata": {},
     "output_type": "execute_result"
    }
   ],
   "source": [
    "# Verifying the centroids\n",
    "clusters.cluster_centers_"
   ]
  },
  {
   "cell_type": "code",
   "execution_count": 9,
   "id": "64f7d815",
   "metadata": {},
   "outputs": [
    {
     "data": {
      "text/plain": [
       "223.58565011275547"
      ]
     },
     "execution_count": 9,
     "metadata": {},
     "output_type": "execute_result"
    }
   ],
   "source": [
    "clusters.inertia_\n",
    "\n",
    "# Also known a the \"cost\" of my centroid"
   ]
  },
  {
   "cell_type": "code",
   "execution_count": 10,
   "id": "8f76bce4",
   "metadata": {},
   "outputs": [],
   "source": [
    "#array([[3.57643144, 3.42644555],\n",
    "#       [6.57857301, 6.42858712],\n",
    "#       [1.02592749, 1.09570578]])"
   ]
  },
  {
   "cell_type": "code",
   "execution_count": 11,
   "id": "9d841204",
   "metadata": {},
   "outputs": [
    {
     "data": {
      "text/plain": [
       "3.4508704270550714"
      ]
     },
     "execution_count": 11,
     "metadata": {},
     "output_type": "execute_result"
    }
   ],
   "source": [
    "clusters.cluster_centers_[0][0]"
   ]
  },
  {
   "cell_type": "code",
   "execution_count": 12,
   "id": "45a6eb99",
   "metadata": {},
   "outputs": [
    {
     "data": {
      "text/plain": [
       "6.454335279567461"
      ]
     },
     "execution_count": 12,
     "metadata": {},
     "output_type": "execute_result"
    }
   ],
   "source": [
    "clusters.cluster_centers_[1][0]"
   ]
  },
  {
   "cell_type": "code",
   "execution_count": 14,
   "id": "9713888d",
   "metadata": {},
   "outputs": [
    {
     "data": {
      "text/plain": [
       "array([2, 2, 2, 2, 2, 2, 2, 2, 2, 2, 2, 2, 2, 2, 2, 2, 2, 2, 2, 2, 2, 2,\n",
       "       2, 2, 2, 2, 2, 2, 2, 2, 2, 2, 2, 2, 2, 2, 2, 2, 2, 2, 2, 2, 2, 2,\n",
       "       2, 2, 2, 2, 2, 2, 2, 2, 2, 2, 2, 2, 2, 2, 2, 2, 2, 2, 2, 2, 2, 2,\n",
       "       2, 2, 2, 2, 2, 2, 2, 2, 2, 2, 2, 2, 2, 2, 2, 2, 2, 2, 2, 2, 2, 2,\n",
       "       2, 2, 2, 2, 2, 2, 2, 2, 2, 2, 2, 2, 0, 0, 0, 0, 0, 0, 0, 0, 0, 0,\n",
       "       0, 0, 0, 0, 0, 0, 0, 0, 0, 0, 0, 0, 0, 0, 0, 0, 0, 0, 0, 0, 0, 0,\n",
       "       0, 0, 0, 0, 0, 0, 0, 0, 0, 0, 0, 0, 0, 0, 0, 0, 0, 0, 0, 0, 0, 0,\n",
       "       0, 0, 0, 0, 0, 0, 0, 0, 0, 0, 0, 0, 0, 0, 0, 0, 0, 0, 0, 0, 0, 0,\n",
       "       0, 0, 0, 0, 0, 0, 0, 0, 0, 0, 0, 0, 0, 0, 0, 0, 0, 0, 0, 0, 0, 0,\n",
       "       0, 0, 1, 1, 1, 1, 1, 1, 1, 1, 1, 1, 1, 1, 1, 1, 1, 1, 1, 1, 1, 1,\n",
       "       1, 1, 1, 1, 1, 1, 1, 1, 1, 1, 1, 1, 1, 1, 1, 1, 1, 1, 1, 1, 1, 1,\n",
       "       1, 1, 1, 1, 1, 1, 1, 1, 1, 1, 1, 1, 1, 1, 1, 1, 1, 1, 1, 1, 1, 1,\n",
       "       1, 1, 1, 1, 1, 1, 1, 1, 1, 1, 1, 1, 1, 1, 1, 1, 1, 1, 1, 1, 1, 1,\n",
       "       1, 1, 1, 1, 1, 1, 1, 1, 1, 1, 1, 1, 1, 1])"
      ]
     },
     "execution_count": 14,
     "metadata": {},
     "output_type": "execute_result"
    }
   ],
   "source": [
    "# Access clusters\n",
    "clusters.labels_"
   ]
  },
  {
   "cell_type": "markdown",
   "id": "f67fa6e2",
   "metadata": {},
   "source": [
    "----------------"
   ]
  },
  {
   "cell_type": "markdown",
   "id": "27de8742",
   "metadata": {},
   "source": [
    "### Visualize the results"
   ]
  },
  {
   "cell_type": "code",
   "execution_count": 15,
   "id": "44eb9def",
   "metadata": {},
   "outputs": [
    {
     "data": {
      "image/png": "[encoded data removed]",
      "text/plain": [
       "<Figure size 720x432 with 1 Axes>"
      ]
     },
     "metadata": {
      "needs_background": "light"
     },
     "output_type": "display_data"
    }
   ],
   "source": [
    "plt.figure(figsize = (10, 6))\n",
    "plt.scatter(base[ : , 0], base[ :, 1], s = 25, color = 'blue')\n",
    "plt.scatter(clusters.cluster_centers_[0][0], clusters.cluster_centers_[0][1], marker='*', s = 100, color = 'red')\n",
    "plt.scatter(clusters.cluster_centers_[1][0], clusters.cluster_centers_[1][1], marker='*', s = 100, color = 'green')\n",
    "plt.scatter(clusters.cluster_centers_[2][0], clusters.cluster_centers_[2][1], marker='*', s = 100, color = 'black')\n",
    "plt.title('Visualizando o resultado do K-means')\n",
    "plt.xlabel('Eixo X')\n",
    "plt.ylabel('Eixo Y');"
   ]
  },
  {
   "cell_type": "markdown",
   "id": "3683c60c",
   "metadata": {},
   "source": [
    "----------------------"
   ]
  },
  {
   "cell_type": "markdown",
   "id": "6fe720a7",
   "metadata": {},
   "source": [
    "### Prediction in new data"
   ]
  },
  {
   "cell_type": "code",
   "execution_count": 18,
   "id": "f3aed685",
   "metadata": {},
   "outputs": [
    {
     "name": "stdout",
     "output_type": "stream",
     "text": [
      "[[7 6]]\n"
     ]
    },
    {
     "data": {
      "text/plain": [
       "array([1])"
      ]
     },
     "execution_count": 18,
     "metadata": {},
     "output_type": "execute_result"
    }
   ],
   "source": [
    "# When I predict a new data, one of my previous clusters will be attributed to the data\n",
    "\n",
    "var1 = 7\n",
    "var2 = 6\n",
    "\n",
    "new_data = np.array([var1,var2])\n",
    "new_data = new_data.reshape(1, -1) # Pay attention to the format of the \"new_data\". It is compatible with our previous data\n",
    "print(new_data)\n",
    "\n",
    "kmodel.predict(new_data)"
   ]
  },
  {
   "cell_type": "markdown",
   "id": "68461305",
   "metadata": {},
   "source": [
    "--------------------"
   ]
  },
  {
   "cell_type": "markdown",
   "id": "355e113f",
   "metadata": {},
   "source": [
    "### Evaluation of the numbers of clusters"
   ]
  },
  {
   "cell_type": "code",
   "execution_count": 19,
   "id": "1067f234",
   "metadata": {},
   "outputs": [],
   "source": [
    "min_clusters = 2\n",
    "max_clusters = 20\n",
    "inertias = np.zeros(shape = (max_clusters - min_clusters + 1,))"
   ]
  },
  {
   "cell_type": "code",
   "execution_count": 20,
   "id": "684a909f",
   "metadata": {},
   "outputs": [],
   "source": [
    "for i in range(min_clusters, max_clusters + 1):\n",
    "    km = KMeans(n_clusters = i, random_state = 42)\n",
    "    km.fit(base)\n",
    "    inertias[i - min_clusters] = km.inertia_"
   ]
  },
  {
   "cell_type": "code",
   "execution_count": 21,
   "id": "2e9bb622",
   "metadata": {},
   "outputs": [
    {
     "data": {
      "image/png": "[encoded data removed]",
      "text/plain": [
       "<Figure size 720x432 with 1 Axes>"
      ]
     },
     "metadata": {
      "needs_background": "light"
     },
     "output_type": "display_data"
    }
   ],
   "source": [
    "plt.figure(figsize = (10, 6))\n",
    "plt.scatter(range(min_clusters, max_clusters + 1), inertias, s = 20, color = \"b\")\n",
    "plt.title('Avaliaçao do numero de clusters')\n",
    "plt.xlabel('# de clusters')\n",
    "plt.ylabel('Soma da distancia quadrada');"
   ]
  },
  {
   "cell_type": "code",
   "execution_count": null,
   "id": "a89b5a89",
   "metadata": {},
   "outputs": [],
   "source": [
    "# In the graph above, we are after the big discrepancy between two dots"
   ]
  }
 ],
 "metadata": {
  "kernelspec": {
   "display_name": "Python 3",
   "language": "python",
   "name": "python3"
  },
  "language_info": {
   "codemirror_mode": {
    "name": "ipython",
    "version": 3
   },
   "file_extension": ".py",
   "mimetype": "text/x-python",
   "name": "python",
   "nbconvert_exporter": "python",
   "pygments_lexer": "ipython3",
   "version": "3.8.8"
  }
 },
 "nbformat": 4,
 "nbformat_minor": 5
}
