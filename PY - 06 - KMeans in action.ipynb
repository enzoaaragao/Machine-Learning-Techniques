{
 "cells": [
  {
   "cell_type": "markdown",
   "id": "a1991767",
   "metadata": {},
   "source": [
    "## K-means in action"
   ]
  },
  {
   "cell_type": "markdown",
   "id": "ebd9efc4",
   "metadata": {},
   "source": [
    "### Motivation\n",
    "- Load database\n",
    "- Evaluation of the number of clusters\n",
    "- K-means train\n",
    "- Apply K-means in new data\n",
    "- Evaluation of results\n",
    "- K-means vs. Logistic Regression\n",
    "- Ensemble model: K-means PLUS Logistic Regression\n",
    "- Ensemble model: K-means WITH Logistic Regression"
   ]
  },
  {
   "cell_type": "code",
   "execution_count": 83,
   "id": "2f99b1f9",
   "metadata": {},
   "outputs": [],
   "source": [
    "# Load libraries\n",
    "from sklearn.model_selection import train_test_split\n",
    "from sklearn.metrics import confusion_matrix\n",
    "from sklearn.metrics import roc_curve, auc\n",
    "from sklearn.cluster import KMeans\n",
    "import matplotlib.pyplot as plt\n",
    "import statsmodels.api as sm\n",
    "import pandas as pd\n",
    "import numpy as np\n",
    "\n",
    "%matplotlib inline"
   ]
  },
  {
   "cell_type": "markdown",
   "id": "0eeeafc8",
   "metadata": {},
   "source": [
    "------------------------"
   ]
  },
  {
   "cell_type": "markdown",
   "id": "580eb39b",
   "metadata": {},
   "source": [
    "### Load database"
   ]
  },
  {
   "cell_type": "code",
   "execution_count": 6,
   "id": "2c3694d0",
   "metadata": {},
   "outputs": [
    {
     "data": {
      "text/plain": [
       "(1000, 62)"
      ]
     },
     "execution_count": 6,
     "metadata": {},
     "output_type": "execute_result"
    }
   ],
   "source": [
    "# change working directory\n",
    "import os\n",
    "os.getcwd() # no need to change it\n",
    "\n",
    "articles = pd.read_csv(\"SportsArticles.csv\", sep = \";\")\n",
    "articles.shape"
   ]
  },
  {
   "cell_type": "code",
   "execution_count": 7,
   "id": "01de0a96",
   "metadata": {},
   "outputs": [
    {
     "data": {
      "text/plain": [
       "Index(['TextID', 'URL', 'Label', 'totalWordsCount', 'semanticobjscore',\n",
       "       'semanticsubjscore', 'CC', 'CD', 'DT', 'EX', 'FW', 'INs', 'JJ', 'JJR',\n",
       "       'JJS', 'LS', 'MD', 'NN', 'NNP', 'NNPS', 'NNS', 'PDT', 'POS', 'PRP',\n",
       "       'PRP$', 'RB', 'RBR', 'RBS', 'RP', 'SYM', 'TOs', 'UH', 'VB', 'VBD',\n",
       "       'VBG', 'VBN', 'VBP', 'VBZ', 'WDT', 'WP', 'WP$', 'WRB', 'baseform',\n",
       "       'Quotes', 'questionmarks', 'exclamationmarks', 'fullstops', 'commas',\n",
       "       'semicolon', 'colon', 'ellipsis', 'pronouns1st', 'pronouns2nd',\n",
       "       'pronouns3rd', 'compsupadjadv', 'past', 'imperative', 'present3rd',\n",
       "       'present1st2nd', 'sentence1st', 'sentencelast', 'txtcomplexity'],\n",
       "      dtype='object')"
      ]
     },
     "execution_count": 7,
     "metadata": {},
     "output_type": "execute_result"
    }
   ],
   "source": [
    "articles.columns"
   ]
  },
  {
   "cell_type": "code",
   "execution_count": 8,
   "id": "0bb414ed",
   "metadata": {},
   "outputs": [
    {
     "data": {
      "text/html": [
       "<div>\n",
       "<style scoped>\n",
       "    .dataframe tbody tr th:only-of-type {\n",
       "        vertical-align: middle;\n",
       "    }\n",
       "\n",
       "    .dataframe tbody tr th {\n",
       "        vertical-align: top;\n",
       "    }\n",
       "\n",
       "    .dataframe thead th {\n",
       "        text-align: right;\n",
       "    }\n",
       "</style>\n",
       "<table border=\"1\" class=\"dataframe\">\n",
       "  <thead>\n",
       "    <tr style=\"text-align: right;\">\n",
       "      <th></th>\n",
       "      <th>TextID</th>\n",
       "      <th>URL</th>\n",
       "      <th>Label</th>\n",
       "      <th>totalWordsCount</th>\n",
       "      <th>semanticobjscore</th>\n",
       "      <th>semanticsubjscore</th>\n",
       "      <th>CC</th>\n",
       "      <th>CD</th>\n",
       "      <th>DT</th>\n",
       "      <th>EX</th>\n",
       "      <th>...</th>\n",
       "      <th>pronouns2nd</th>\n",
       "      <th>pronouns3rd</th>\n",
       "      <th>compsupadjadv</th>\n",
       "      <th>past</th>\n",
       "      <th>imperative</th>\n",
       "      <th>present3rd</th>\n",
       "      <th>present1st2nd</th>\n",
       "      <th>sentence1st</th>\n",
       "      <th>sentencelast</th>\n",
       "      <th>txtcomplexity</th>\n",
       "    </tr>\n",
       "  </thead>\n",
       "  <tbody>\n",
       "    <tr>\n",
       "      <th>0</th>\n",
       "      <td>Text0001</td>\n",
       "      <td>http://msn.foxsports.com/foxsoccer/mexico/stor...</td>\n",
       "      <td>objective</td>\n",
       "      <td>109</td>\n",
       "      <td>0</td>\n",
       "      <td>1</td>\n",
       "      <td>7</td>\n",
       "      <td>9</td>\n",
       "      <td>0</td>\n",
       "      <td>5</td>\n",
       "      <td>...</td>\n",
       "      <td>0</td>\n",
       "      <td>3</td>\n",
       "      <td>0</td>\n",
       "      <td>11</td>\n",
       "      <td>0</td>\n",
       "      <td>0</td>\n",
       "      <td>0</td>\n",
       "      <td>0</td>\n",
       "      <td>1</td>\n",
       "      <td>18</td>\n",
       "    </tr>\n",
       "    <tr>\n",
       "      <th>1</th>\n",
       "      <td>Text0002</td>\n",
       "      <td>http://msn.foxsports.com/foxsoccer/premierleag...</td>\n",
       "      <td>objective</td>\n",
       "      <td>309</td>\n",
       "      <td>21</td>\n",
       "      <td>4</td>\n",
       "      <td>1</td>\n",
       "      <td>19</td>\n",
       "      <td>1</td>\n",
       "      <td>4</td>\n",
       "      <td>...</td>\n",
       "      <td>0</td>\n",
       "      <td>10</td>\n",
       "      <td>0</td>\n",
       "      <td>13</td>\n",
       "      <td>0</td>\n",
       "      <td>14</td>\n",
       "      <td>9</td>\n",
       "      <td>1</td>\n",
       "      <td>1</td>\n",
       "      <td>14</td>\n",
       "    </tr>\n",
       "    <tr>\n",
       "      <th>2</th>\n",
       "      <td>Text0003</td>\n",
       "      <td>http://uk.eurosport.yahoo.com/04022011/58/fed-...</td>\n",
       "      <td>objective</td>\n",
       "      <td>149</td>\n",
       "      <td>6</td>\n",
       "      <td>1</td>\n",
       "      <td>8</td>\n",
       "      <td>14</td>\n",
       "      <td>0</td>\n",
       "      <td>5</td>\n",
       "      <td>...</td>\n",
       "      <td>0</td>\n",
       "      <td>2</td>\n",
       "      <td>0</td>\n",
       "      <td>8</td>\n",
       "      <td>0</td>\n",
       "      <td>3</td>\n",
       "      <td>2</td>\n",
       "      <td>1</td>\n",
       "      <td>1</td>\n",
       "      <td>18</td>\n",
       "    </tr>\n",
       "  </tbody>\n",
       "</table>\n",
       "<p>3 rows × 62 columns</p>\n",
       "</div>"
      ],
      "text/plain": [
       "     TextID                                                URL      Label  \\\n",
       "0  Text0001  http://msn.foxsports.com/foxsoccer/mexico/stor...  objective   \n",
       "1  Text0002  http://msn.foxsports.com/foxsoccer/premierleag...  objective   \n",
       "2  Text0003  http://uk.eurosport.yahoo.com/04022011/58/fed-...  objective   \n",
       "\n",
       "   totalWordsCount  semanticobjscore  semanticsubjscore  CC  CD  DT  EX  ...  \\\n",
       "0              109                 0                  1   7   9   0   5  ...   \n",
       "1              309                21                  4   1  19   1   4  ...   \n",
       "2              149                 6                  1   8  14   0   5  ...   \n",
       "\n",
       "   pronouns2nd  pronouns3rd  compsupadjadv  past  imperative  present3rd  \\\n",
       "0            0            3              0    11           0           0   \n",
       "1            0           10              0    13           0          14   \n",
       "2            0            2              0     8           0           3   \n",
       "\n",
       "   present1st2nd  sentence1st  sentencelast  txtcomplexity  \n",
       "0              0            0             1             18  \n",
       "1              9            1             1             14  \n",
       "2              2            1             1             18  \n",
       "\n",
       "[3 rows x 62 columns]"
      ]
     },
     "execution_count": 8,
     "metadata": {},
     "output_type": "execute_result"
    }
   ],
   "source": [
    "articles[0:3]"
   ]
  },
  {
   "cell_type": "code",
   "execution_count": 9,
   "id": "7e0c3f69",
   "metadata": {},
   "outputs": [],
   "source": [
    "# adjusting the variable \"Label\"\n",
    "articles[\"Label\"] = np.where(articles[\"Label\"] == \"objective\", 1, 0)"
   ]
  },
  {
   "cell_type": "code",
   "execution_count": 10,
   "id": "ce741eda",
   "metadata": {},
   "outputs": [
    {
     "data": {
      "text/plain": [
       "count    1000.000\n",
       "mean        0.635\n",
       "Name: Label, dtype: float64"
      ]
     },
     "execution_count": 10,
     "metadata": {},
     "output_type": "execute_result"
    }
   ],
   "source": [
    "# inspectioning \"Label\" - just want the count and mean\n",
    "articles[\"Label\"].describe()[['count', 'mean']]"
   ]
  },
  {
   "cell_type": "markdown",
   "id": "c9af8b47",
   "metadata": {},
   "source": [
    "##### It means that 63.5% of my observations are \"objective\". We have a dataset that is a little bit unbalanced. Database equalization techniques could be good here (in a professional context)"
   ]
  },
  {
   "cell_type": "code",
   "execution_count": 11,
   "id": "556346fd",
   "metadata": {},
   "outputs": [],
   "source": [
    "# splitting the data into x and y variables\n",
    "x = articles.drop([\"TextID\", \"URL\", \"Label\"], axis = 1) # TextID and URL does not matter here\n",
    "y = articles[\"Label\"]\n",
    "\n",
    "# splitting it between training and testing\n",
    "x_train, x_test, y_train, y_test = train_test_split(x, y, test_size = 0.5, random_state = 42)"
   ]
  },
  {
   "cell_type": "markdown",
   "id": "d91b7bae",
   "metadata": {},
   "source": [
    "-------------------------------"
   ]
  },
  {
   "cell_type": "markdown",
   "id": "15626abc",
   "metadata": {},
   "source": [
    "### Evaluation of the number of clusters"
   ]
  },
  {
   "cell_type": "code",
   "execution_count": 12,
   "id": "87d7a3ff",
   "metadata": {},
   "outputs": [],
   "source": [
    "min_clusters = 2\n",
    "max_clusters = 20\n",
    "inertias = np.zeros(shape = (max_clusters - min_clusters + 1,))"
   ]
  },
  {
   "cell_type": "code",
   "execution_count": 15,
   "id": "a6f0f975",
   "metadata": {},
   "outputs": [],
   "source": [
    "for i in range(min_clusters, max_clusters + 1):\n",
    "    km = KMeans(n_clusters = i, random_state = 42)\n",
    "    km.fit(x_train)\n",
    "    inertias[i - min_clusters] = km.inertia_"
   ]
  },
  {
   "cell_type": "code",
   "execution_count": 16,
   "id": "5d2638c5",
   "metadata": {},
   "outputs": [
    {
     "data": {
      "image/png": "[encoded data removed]",
      "text/plain": [
       "<Figure size 720x432 with 1 Axes>"
      ]
     },
     "metadata": {
      "needs_background": "light"
     },
     "output_type": "display_data"
    }
   ],
   "source": [
    "plt.figure(figsize = (10, 6))\n",
    "plt.plot(range(min_clusters, max_clusters + 1), inertias, color = \"b\")\n",
    "plt.title(\"Evaluation of the number of clusters\")\n",
    "plt.xlabel(\"# of clusters\")\n",
    "plt.ylabel(\"Sum of square distance\")\n",
    "plt.annotate(\"# of clusters chosen\", xy = (6, 1.25e7), xytext = (7.5, 2e7),\n",
    "            arrowprops = dict(facecolor = \"red\", shrink = 0.05),);"
   ]
  },
  {
   "cell_type": "markdown",
   "id": "e2ebc352",
   "metadata": {},
   "source": [
    "------------------------------"
   ]
  },
  {
   "cell_type": "markdown",
   "id": "b5b24586",
   "metadata": {},
   "source": [
    "### K-Means train"
   ]
  },
  {
   "cell_type": "code",
   "execution_count": 17,
   "id": "09387f7b",
   "metadata": {},
   "outputs": [],
   "source": [
    "kmodel = KMeans(n_clusters = 6, random_state = 42)\n",
    "clusters = kmodel.fit(x_train)"
   ]
  },
  {
   "cell_type": "code",
   "execution_count": 18,
   "id": "bc44894f",
   "metadata": {},
   "outputs": [
    {
     "data": {
      "text/plain": [
       "8674616.308730168"
      ]
     },
     "execution_count": 18,
     "metadata": {},
     "output_type": "execute_result"
    }
   ],
   "source": [
    "clusters.inertia_"
   ]
  },
  {
   "cell_type": "code",
   "execution_count": 20,
   "id": "c477f6ca",
   "metadata": {},
   "outputs": [
    {
     "data": {
      "text/plain": [
       "array([4, 1, 1, 4, 4, 1, 4, 2, 2, 4, 1, 3, 4, 1, 3, 3, 3, 0, 4, 1, 0, 1,\n",
       "       1, 1, 1, 1, 4, 1, 3, 1, 3, 1, 1, 3, 3, 1, 1, 1, 0, 4, 1, 1, 0, 4,\n",
       "       1, 3, 4, 4, 1, 4, 3, 3, 4, 4, 4, 3, 1, 3, 3, 1, 1, 4, 4, 0, 4, 3,\n",
       "       5, 4, 1, 0, 1, 4, 3, 1, 3, 3, 3, 3, 1, 4, 3, 4, 3, 0, 4, 3, 1, 3,\n",
       "       1, 3, 4, 4, 5, 0, 0, 5, 3, 5, 3, 4, 1, 1, 3, 1, 1, 4, 4, 3, 3, 1,\n",
       "       3, 1, 1, 0, 4, 4, 4, 1, 5, 1, 4, 1, 4, 3, 1, 4, 1, 4, 4, 1, 3, 3,\n",
       "       3, 4, 5, 1, 4, 0, 1, 3, 3, 3, 3, 0, 1, 1, 5, 0, 0, 0, 3, 4, 4, 3,\n",
       "       4, 1, 0, 4, 1, 4, 1, 4, 1, 4, 1, 1, 4, 1, 4, 4, 1, 1, 0, 5, 1, 1,\n",
       "       1, 1, 4, 1, 4, 0, 3, 4, 4, 1, 4, 0, 4, 1, 4, 1, 1, 4, 0, 1, 4, 4,\n",
       "       3, 1, 5, 4, 0, 3, 4, 3, 1, 1, 4, 3, 0, 0, 4, 3, 4, 1, 1, 4, 1, 4,\n",
       "       4, 4, 4, 1, 3, 3, 1, 1, 0, 3, 0, 4, 4, 1, 4, 4, 3, 1, 0, 1, 4, 4,\n",
       "       4, 0, 4, 4, 4, 1, 4, 4, 1, 4, 4, 1, 0, 3, 1, 1, 0, 1, 1, 3, 4, 3,\n",
       "       4, 0, 1, 3, 1, 1, 4, 3, 4, 4, 1, 3, 5, 3, 1, 1, 1, 4, 1, 1, 1, 1,\n",
       "       4, 4, 1, 4, 1, 4, 4, 0, 0, 3, 0, 4, 0, 0, 1, 4, 3, 4, 1, 3, 3, 1,\n",
       "       3, 1, 4, 1, 4, 0, 0, 3, 4, 0, 3, 4, 1, 0, 4, 0, 1, 1, 4, 1, 1, 0,\n",
       "       0, 3, 0, 1, 3, 1, 3, 4, 3, 0, 1, 4, 4, 1, 1, 5, 3, 3, 4, 1, 1, 4,\n",
       "       4, 4, 4, 3, 1, 3, 4, 3, 1, 1, 1, 4, 3, 5, 5, 1, 5, 3, 4, 0, 1, 5,\n",
       "       3, 1, 1, 4, 3, 3, 4, 4, 4, 1, 0, 1, 4, 1, 3, 3, 0, 4, 4, 1, 0, 1,\n",
       "       1, 3, 1, 4, 4, 3, 3, 1, 1, 1, 4, 1, 3, 4, 4, 0, 3, 3, 0, 1, 4, 4,\n",
       "       3, 1, 3, 3, 3, 0, 1, 3, 4, 3, 1, 3, 1, 1, 4, 3, 1, 1, 5, 1, 0, 1,\n",
       "       3, 3, 2, 0, 3, 4, 1, 4, 1, 4, 5, 1, 4, 1, 1, 4, 1, 4, 3, 0, 4, 1,\n",
       "       5, 0, 1, 1, 1, 1, 1, 1, 0, 1, 1, 1, 1, 1, 3, 5, 3, 4, 3, 3, 4, 1,\n",
       "       1, 3, 1, 3, 3, 1, 1, 3, 1, 4, 3, 3, 1, 0, 1, 3])"
      ]
     },
     "execution_count": 20,
     "metadata": {},
     "output_type": "execute_result"
    }
   ],
   "source": [
    "clusters.labels_"
   ]
  },
  {
   "cell_type": "markdown",
   "id": "eb71259c",
   "metadata": {},
   "source": [
    "----------------------------"
   ]
  },
  {
   "cell_type": "markdown",
   "id": "f0c9cc4b",
   "metadata": {},
   "source": [
    "### Apply K-Means in new data"
   ]
  },
  {
   "cell_type": "code",
   "execution_count": 22,
   "id": "529e4562",
   "metadata": {},
   "outputs": [],
   "source": [
    "# Apply it to the train and test data\n",
    "train_clusters = pd.DataFrame(clusters.labels_, columns = [\"Cluster\"])\n",
    "train_clusters[\"Label\"] = y_train.values\n",
    "\n",
    "fitted_clusters = kmodel.predict(x_test)\n",
    "test_clusters = pd.DataFrame(fitted_clusters, columns = [\"Cluster\"])\n",
    "test_clusters[\"Label\"] = y_test.values\n",
    "\n",
    "# we must use the .values to avoid index problems"
   ]
  },
  {
   "cell_type": "code",
   "execution_count": 23,
   "id": "c80334d1",
   "metadata": {},
   "outputs": [
    {
     "data": {
      "text/html": [
       "<div>\n",
       "<style scoped>\n",
       "    .dataframe tbody tr th:only-of-type {\n",
       "        vertical-align: middle;\n",
       "    }\n",
       "\n",
       "    .dataframe tbody tr th {\n",
       "        vertical-align: top;\n",
       "    }\n",
       "\n",
       "    .dataframe thead th {\n",
       "        text-align: right;\n",
       "    }\n",
       "</style>\n",
       "<table border=\"1\" class=\"dataframe\">\n",
       "  <thead>\n",
       "    <tr style=\"text-align: right;\">\n",
       "      <th></th>\n",
       "      <th>Cluster</th>\n",
       "      <th>Label</th>\n",
       "    </tr>\n",
       "  </thead>\n",
       "  <tbody>\n",
       "    <tr>\n",
       "      <th>0</th>\n",
       "      <td>4</td>\n",
       "      <td>0</td>\n",
       "    </tr>\n",
       "    <tr>\n",
       "      <th>1</th>\n",
       "      <td>1</td>\n",
       "      <td>1</td>\n",
       "    </tr>\n",
       "    <tr>\n",
       "      <th>2</th>\n",
       "      <td>1</td>\n",
       "      <td>1</td>\n",
       "    </tr>\n",
       "    <tr>\n",
       "      <th>3</th>\n",
       "      <td>4</td>\n",
       "      <td>0</td>\n",
       "    </tr>\n",
       "    <tr>\n",
       "      <th>4</th>\n",
       "      <td>4</td>\n",
       "      <td>0</td>\n",
       "    </tr>\n",
       "  </tbody>\n",
       "</table>\n",
       "</div>"
      ],
      "text/plain": [
       "   Cluster  Label\n",
       "0        4      0\n",
       "1        1      1\n",
       "2        1      1\n",
       "3        4      0\n",
       "4        4      0"
      ]
     },
     "execution_count": 23,
     "metadata": {},
     "output_type": "execute_result"
    }
   ],
   "source": [
    "train_clusters.head()"
   ]
  },
  {
   "cell_type": "code",
   "execution_count": 24,
   "id": "b5ab864f",
   "metadata": {},
   "outputs": [
    {
     "data": {
      "text/html": [
       "<div>\n",
       "<style scoped>\n",
       "    .dataframe tbody tr th:only-of-type {\n",
       "        vertical-align: middle;\n",
       "    }\n",
       "\n",
       "    .dataframe tbody tr th {\n",
       "        vertical-align: top;\n",
       "    }\n",
       "\n",
       "    .dataframe thead th {\n",
       "        text-align: right;\n",
       "    }\n",
       "</style>\n",
       "<table border=\"1\" class=\"dataframe\">\n",
       "  <thead>\n",
       "    <tr style=\"text-align: right;\">\n",
       "      <th></th>\n",
       "      <th>Cluster</th>\n",
       "      <th>Label</th>\n",
       "    </tr>\n",
       "  </thead>\n",
       "  <tbody>\n",
       "    <tr>\n",
       "      <th>0</th>\n",
       "      <td>1</td>\n",
       "      <td>1</td>\n",
       "    </tr>\n",
       "    <tr>\n",
       "      <th>1</th>\n",
       "      <td>3</td>\n",
       "      <td>0</td>\n",
       "    </tr>\n",
       "    <tr>\n",
       "      <th>2</th>\n",
       "      <td>3</td>\n",
       "      <td>0</td>\n",
       "    </tr>\n",
       "    <tr>\n",
       "      <th>3</th>\n",
       "      <td>3</td>\n",
       "      <td>0</td>\n",
       "    </tr>\n",
       "    <tr>\n",
       "      <th>4</th>\n",
       "      <td>3</td>\n",
       "      <td>1</td>\n",
       "    </tr>\n",
       "  </tbody>\n",
       "</table>\n",
       "</div>"
      ],
      "text/plain": [
       "   Cluster  Label\n",
       "0        1      1\n",
       "1        3      0\n",
       "2        3      0\n",
       "3        3      0\n",
       "4        3      1"
      ]
     },
     "execution_count": 24,
     "metadata": {},
     "output_type": "execute_result"
    }
   ],
   "source": [
    "test_clusters.head()"
   ]
  },
  {
   "cell_type": "code",
   "execution_count": 25,
   "id": "b22c60fd",
   "metadata": {},
   "outputs": [
    {
     "data": {
      "text/html": [
       "<div>\n",
       "<style scoped>\n",
       "    .dataframe tbody tr th:only-of-type {\n",
       "        vertical-align: middle;\n",
       "    }\n",
       "\n",
       "    .dataframe tbody tr th {\n",
       "        vertical-align: top;\n",
       "    }\n",
       "\n",
       "    .dataframe thead th {\n",
       "        text-align: right;\n",
       "    }\n",
       "</style>\n",
       "<table border=\"1\" class=\"dataframe\">\n",
       "  <thead>\n",
       "    <tr style=\"text-align: right;\">\n",
       "      <th>Label</th>\n",
       "      <th>0</th>\n",
       "      <th>1</th>\n",
       "    </tr>\n",
       "    <tr>\n",
       "      <th>Cluster</th>\n",
       "      <th></th>\n",
       "      <th></th>\n",
       "    </tr>\n",
       "  </thead>\n",
       "  <tbody>\n",
       "    <tr>\n",
       "      <th>0</th>\n",
       "      <td>44</td>\n",
       "      <td>13</td>\n",
       "    </tr>\n",
       "    <tr>\n",
       "      <th>1</th>\n",
       "      <td>21</td>\n",
       "      <td>150</td>\n",
       "    </tr>\n",
       "    <tr>\n",
       "      <th>2</th>\n",
       "      <td>2</td>\n",
       "      <td>1</td>\n",
       "    </tr>\n",
       "    <tr>\n",
       "      <th>3</th>\n",
       "      <td>31</td>\n",
       "      <td>79</td>\n",
       "    </tr>\n",
       "    <tr>\n",
       "      <th>4</th>\n",
       "      <td>92</td>\n",
       "      <td>48</td>\n",
       "    </tr>\n",
       "    <tr>\n",
       "      <th>5</th>\n",
       "      <td>12</td>\n",
       "      <td>7</td>\n",
       "    </tr>\n",
       "  </tbody>\n",
       "</table>\n",
       "</div>"
      ],
      "text/plain": [
       "Label     0    1\n",
       "Cluster         \n",
       "0        44   13\n",
       "1        21  150\n",
       "2         2    1\n",
       "3        31   79\n",
       "4        92   48\n",
       "5        12    7"
      ]
     },
     "execution_count": 25,
     "metadata": {},
     "output_type": "execute_result"
    }
   ],
   "source": [
    "pd.crosstab(train_clusters[\"Cluster\"], train_clusters[\"Label\"])"
   ]
  },
  {
   "cell_type": "code",
   "execution_count": 27,
   "id": "0c868875",
   "metadata": {},
   "outputs": [
    {
     "data": {
      "text/html": [
       "<div>\n",
       "<style scoped>\n",
       "    .dataframe tbody tr th:only-of-type {\n",
       "        vertical-align: middle;\n",
       "    }\n",
       "\n",
       "    .dataframe tbody tr th {\n",
       "        vertical-align: top;\n",
       "    }\n",
       "\n",
       "    .dataframe thead th {\n",
       "        text-align: right;\n",
       "    }\n",
       "</style>\n",
       "<table border=\"1\" class=\"dataframe\">\n",
       "  <thead>\n",
       "    <tr style=\"text-align: right;\">\n",
       "      <th>Label</th>\n",
       "      <th>0</th>\n",
       "      <th>1</th>\n",
       "    </tr>\n",
       "    <tr>\n",
       "      <th>Cluster</th>\n",
       "      <th></th>\n",
       "      <th></th>\n",
       "    </tr>\n",
       "  </thead>\n",
       "  <tbody>\n",
       "    <tr>\n",
       "      <th>0</th>\n",
       "      <td>24</td>\n",
       "      <td>19</td>\n",
       "    </tr>\n",
       "    <tr>\n",
       "      <th>1</th>\n",
       "      <td>12</td>\n",
       "      <td>180</td>\n",
       "    </tr>\n",
       "    <tr>\n",
       "      <th>2</th>\n",
       "      <td>5</td>\n",
       "      <td>1</td>\n",
       "    </tr>\n",
       "    <tr>\n",
       "      <th>3</th>\n",
       "      <td>40</td>\n",
       "      <td>84</td>\n",
       "    </tr>\n",
       "    <tr>\n",
       "      <th>4</th>\n",
       "      <td>69</td>\n",
       "      <td>45</td>\n",
       "    </tr>\n",
       "    <tr>\n",
       "      <th>5</th>\n",
       "      <td>13</td>\n",
       "      <td>8</td>\n",
       "    </tr>\n",
       "  </tbody>\n",
       "</table>\n",
       "</div>"
      ],
      "text/plain": [
       "Label     0    1\n",
       "Cluster         \n",
       "0        24   19\n",
       "1        12  180\n",
       "2         5    1\n",
       "3        40   84\n",
       "4        69   45\n",
       "5        13    8"
      ]
     },
     "execution_count": 27,
     "metadata": {},
     "output_type": "execute_result"
    }
   ],
   "source": [
    "pd.crosstab(test_clusters[\"Cluster\"], test_clusters[\"Label\"])"
   ]
  },
  {
   "cell_type": "code",
   "execution_count": 28,
   "id": "db2153f4",
   "metadata": {
    "collapsed": true
   },
   "outputs": [
    {
     "data": {
      "text/html": [
       "<div>\n",
       "<style scoped>\n",
       "    .dataframe tbody tr th:only-of-type {\n",
       "        vertical-align: middle;\n",
       "    }\n",
       "\n",
       "    .dataframe tbody tr th {\n",
       "        vertical-align: top;\n",
       "    }\n",
       "\n",
       "    .dataframe thead th {\n",
       "        text-align: right;\n",
       "    }\n",
       "</style>\n",
       "<table border=\"1\" class=\"dataframe\">\n",
       "  <thead>\n",
       "    <tr style=\"text-align: right;\">\n",
       "      <th></th>\n",
       "      <th>Cluster</th>\n",
       "      <th>Label</th>\n",
       "    </tr>\n",
       "  </thead>\n",
       "  <tbody>\n",
       "    <tr>\n",
       "      <th>count</th>\n",
       "      <td>500.000000</td>\n",
       "      <td>500.000000</td>\n",
       "    </tr>\n",
       "    <tr>\n",
       "      <th>mean</th>\n",
       "      <td>2.324000</td>\n",
       "      <td>0.596000</td>\n",
       "    </tr>\n",
       "    <tr>\n",
       "      <th>std</th>\n",
       "      <td>1.542655</td>\n",
       "      <td>0.491189</td>\n",
       "    </tr>\n",
       "    <tr>\n",
       "      <th>min</th>\n",
       "      <td>0.000000</td>\n",
       "      <td>0.000000</td>\n",
       "    </tr>\n",
       "    <tr>\n",
       "      <th>25%</th>\n",
       "      <td>1.000000</td>\n",
       "      <td>0.000000</td>\n",
       "    </tr>\n",
       "    <tr>\n",
       "      <th>50%</th>\n",
       "      <td>3.000000</td>\n",
       "      <td>1.000000</td>\n",
       "    </tr>\n",
       "    <tr>\n",
       "      <th>75%</th>\n",
       "      <td>4.000000</td>\n",
       "      <td>1.000000</td>\n",
       "    </tr>\n",
       "    <tr>\n",
       "      <th>max</th>\n",
       "      <td>5.000000</td>\n",
       "      <td>1.000000</td>\n",
       "    </tr>\n",
       "  </tbody>\n",
       "</table>\n",
       "</div>"
      ],
      "text/plain": [
       "          Cluster       Label\n",
       "count  500.000000  500.000000\n",
       "mean     2.324000    0.596000\n",
       "std      1.542655    0.491189\n",
       "min      0.000000    0.000000\n",
       "25%      1.000000    0.000000\n",
       "50%      3.000000    1.000000\n",
       "75%      4.000000    1.000000\n",
       "max      5.000000    1.000000"
      ]
     },
     "execution_count": 28,
     "metadata": {},
     "output_type": "execute_result"
    }
   ],
   "source": [
    "train_clusters.describe()"
   ]
  },
  {
   "cell_type": "code",
   "execution_count": 29,
   "id": "1ecc6b90",
   "metadata": {},
   "outputs": [
    {
     "data": {
      "text/html": [
       "<div>\n",
       "<style scoped>\n",
       "    .dataframe tbody tr th:only-of-type {\n",
       "        vertical-align: middle;\n",
       "    }\n",
       "\n",
       "    .dataframe tbody tr th {\n",
       "        vertical-align: top;\n",
       "    }\n",
       "\n",
       "    .dataframe thead th {\n",
       "        text-align: right;\n",
       "    }\n",
       "</style>\n",
       "<table border=\"1\" class=\"dataframe\">\n",
       "  <thead>\n",
       "    <tr style=\"text-align: right;\">\n",
       "      <th></th>\n",
       "      <th>Label</th>\n",
       "    </tr>\n",
       "    <tr>\n",
       "      <th>Cluster</th>\n",
       "      <th></th>\n",
       "    </tr>\n",
       "  </thead>\n",
       "  <tbody>\n",
       "    <tr>\n",
       "      <th>0</th>\n",
       "      <td>0.228070</td>\n",
       "    </tr>\n",
       "    <tr>\n",
       "      <th>1</th>\n",
       "      <td>0.877193</td>\n",
       "    </tr>\n",
       "    <tr>\n",
       "      <th>2</th>\n",
       "      <td>0.333333</td>\n",
       "    </tr>\n",
       "    <tr>\n",
       "      <th>3</th>\n",
       "      <td>0.718182</td>\n",
       "    </tr>\n",
       "    <tr>\n",
       "      <th>4</th>\n",
       "      <td>0.342857</td>\n",
       "    </tr>\n",
       "    <tr>\n",
       "      <th>5</th>\n",
       "      <td>0.368421</td>\n",
       "    </tr>\n",
       "  </tbody>\n",
       "</table>\n",
       "</div>"
      ],
      "text/plain": [
       "            Label\n",
       "Cluster          \n",
       "0        0.228070\n",
       "1        0.877193\n",
       "2        0.333333\n",
       "3        0.718182\n",
       "4        0.342857\n",
       "5        0.368421"
      ]
     },
     "execution_count": 29,
     "metadata": {},
     "output_type": "execute_result"
    }
   ],
   "source": [
    "train_clusters.groupby(\"Cluster\").mean()"
   ]
  },
  {
   "cell_type": "code",
   "execution_count": 30,
   "id": "9bd3d357",
   "metadata": {},
   "outputs": [
    {
     "data": {
      "text/html": [
       "<div>\n",
       "<style scoped>\n",
       "    .dataframe tbody tr th:only-of-type {\n",
       "        vertical-align: middle;\n",
       "    }\n",
       "\n",
       "    .dataframe tbody tr th {\n",
       "        vertical-align: top;\n",
       "    }\n",
       "\n",
       "    .dataframe thead th {\n",
       "        text-align: right;\n",
       "    }\n",
       "</style>\n",
       "<table border=\"1\" class=\"dataframe\">\n",
       "  <thead>\n",
       "    <tr style=\"text-align: right;\">\n",
       "      <th></th>\n",
       "      <th>Label</th>\n",
       "    </tr>\n",
       "    <tr>\n",
       "      <th>Cluster</th>\n",
       "      <th></th>\n",
       "    </tr>\n",
       "  </thead>\n",
       "  <tbody>\n",
       "    <tr>\n",
       "      <th>0</th>\n",
       "      <td>0.441860</td>\n",
       "    </tr>\n",
       "    <tr>\n",
       "      <th>1</th>\n",
       "      <td>0.937500</td>\n",
       "    </tr>\n",
       "    <tr>\n",
       "      <th>2</th>\n",
       "      <td>0.166667</td>\n",
       "    </tr>\n",
       "    <tr>\n",
       "      <th>3</th>\n",
       "      <td>0.677419</td>\n",
       "    </tr>\n",
       "    <tr>\n",
       "      <th>4</th>\n",
       "      <td>0.394737</td>\n",
       "    </tr>\n",
       "    <tr>\n",
       "      <th>5</th>\n",
       "      <td>0.380952</td>\n",
       "    </tr>\n",
       "  </tbody>\n",
       "</table>\n",
       "</div>"
      ],
      "text/plain": [
       "            Label\n",
       "Cluster          \n",
       "0        0.441860\n",
       "1        0.937500\n",
       "2        0.166667\n",
       "3        0.677419\n",
       "4        0.394737\n",
       "5        0.380952"
      ]
     },
     "execution_count": 30,
     "metadata": {},
     "output_type": "execute_result"
    }
   ],
   "source": [
    "test_clusters.groupby(\"Cluster\").mean()"
   ]
  },
  {
   "cell_type": "markdown",
   "id": "a80cc114",
   "metadata": {},
   "source": [
    "##### the values are different from our previous mean of the dataset. It shows that the KMeans algo is working. There is a discriminatory characteristic in the algo"
   ]
  },
  {
   "cell_type": "markdown",
   "id": "8bc255f8",
   "metadata": {},
   "source": [
    "##### interesting points:\n",
    "- If I am doing trade (finance), I can choose only to do trade when I am at a specific cluster/day\n",
    "- If a credit client is in one really \"good\" cluster, I can save operational costs by trusting the model\n",
    "- I also can use the KMeans as a filter, and then do specific analysis"
   ]
  },
  {
   "cell_type": "code",
   "execution_count": 32,
   "id": "773a4ca1",
   "metadata": {},
   "outputs": [
    {
     "data": {
      "text/html": [
       "<div>\n",
       "<style scoped>\n",
       "    .dataframe tbody tr th:only-of-type {\n",
       "        vertical-align: middle;\n",
       "    }\n",
       "\n",
       "    .dataframe tbody tr th {\n",
       "        vertical-align: top;\n",
       "    }\n",
       "\n",
       "    .dataframe thead th {\n",
       "        text-align: right;\n",
       "    }\n",
       "</style>\n",
       "<table border=\"1\" class=\"dataframe\">\n",
       "  <thead>\n",
       "    <tr style=\"text-align: right;\">\n",
       "      <th></th>\n",
       "      <th>count</th>\n",
       "      <th>mean</th>\n",
       "    </tr>\n",
       "    <tr>\n",
       "      <th>Cluster</th>\n",
       "      <th></th>\n",
       "      <th></th>\n",
       "    </tr>\n",
       "  </thead>\n",
       "  <tbody>\n",
       "    <tr>\n",
       "      <th>0</th>\n",
       "      <td>43.0</td>\n",
       "      <td>0.441860</td>\n",
       "    </tr>\n",
       "    <tr>\n",
       "      <th>1</th>\n",
       "      <td>192.0</td>\n",
       "      <td>0.937500</td>\n",
       "    </tr>\n",
       "    <tr>\n",
       "      <th>2</th>\n",
       "      <td>6.0</td>\n",
       "      <td>0.166667</td>\n",
       "    </tr>\n",
       "    <tr>\n",
       "      <th>3</th>\n",
       "      <td>124.0</td>\n",
       "      <td>0.677419</td>\n",
       "    </tr>\n",
       "    <tr>\n",
       "      <th>4</th>\n",
       "      <td>114.0</td>\n",
       "      <td>0.394737</td>\n",
       "    </tr>\n",
       "    <tr>\n",
       "      <th>5</th>\n",
       "      <td>21.0</td>\n",
       "      <td>0.380952</td>\n",
       "    </tr>\n",
       "  </tbody>\n",
       "</table>\n",
       "</div>"
      ],
      "text/plain": [
       "         count      mean\n",
       "Cluster                 \n",
       "0         43.0  0.441860\n",
       "1        192.0  0.937500\n",
       "2          6.0  0.166667\n",
       "3        124.0  0.677419\n",
       "4        114.0  0.394737\n",
       "5         21.0  0.380952"
      ]
     },
     "execution_count": 32,
     "metadata": {},
     "output_type": "execute_result"
    }
   ],
   "source": [
    "test_clusters.groupby(\"Cluster\")[\"Label\"].describe()[['count', 'mean']]"
   ]
  },
  {
   "cell_type": "markdown",
   "id": "a552c00f",
   "metadata": {},
   "source": [
    "---------------------"
   ]
  },
  {
   "cell_type": "markdown",
   "id": "797a56a4",
   "metadata": {},
   "source": [
    "### Evaluation of results"
   ]
  },
  {
   "cell_type": "code",
   "execution_count": 34,
   "id": "d81cb555",
   "metadata": {},
   "outputs": [],
   "source": [
    "train_clusters[\"Predicted\"] = np.where(((train_clusters[\"Cluster\"] == 1) | (train_clusters[\"Cluster\"] == 3)), 1, 0)\n",
    "test_clusters[\"Predicted\"] = np.where(((test_clusters[\"Cluster\"] == 1) | (test_clusters[\"Cluster\"] == 3)), 1, 0)"
   ]
  },
  {
   "cell_type": "code",
   "execution_count": 35,
   "id": "e5cea9b8",
   "metadata": {},
   "outputs": [
    {
     "data": {
      "text/html": [
       "<div>\n",
       "<style scoped>\n",
       "    .dataframe tbody tr th:only-of-type {\n",
       "        vertical-align: middle;\n",
       "    }\n",
       "\n",
       "    .dataframe tbody tr th {\n",
       "        vertical-align: top;\n",
       "    }\n",
       "\n",
       "    .dataframe thead th {\n",
       "        text-align: right;\n",
       "    }\n",
       "</style>\n",
       "<table border=\"1\" class=\"dataframe\">\n",
       "  <thead>\n",
       "    <tr style=\"text-align: right;\">\n",
       "      <th>Label</th>\n",
       "      <th>0</th>\n",
       "      <th>1</th>\n",
       "    </tr>\n",
       "    <tr>\n",
       "      <th>Predicted</th>\n",
       "      <th></th>\n",
       "      <th></th>\n",
       "    </tr>\n",
       "  </thead>\n",
       "  <tbody>\n",
       "    <tr>\n",
       "      <th>0</th>\n",
       "      <td>150</td>\n",
       "      <td>69</td>\n",
       "    </tr>\n",
       "    <tr>\n",
       "      <th>1</th>\n",
       "      <td>52</td>\n",
       "      <td>229</td>\n",
       "    </tr>\n",
       "  </tbody>\n",
       "</table>\n",
       "</div>"
      ],
      "text/plain": [
       "Label        0    1\n",
       "Predicted          \n",
       "0          150   69\n",
       "1           52  229"
      ]
     },
     "execution_count": 35,
     "metadata": {},
     "output_type": "execute_result"
    }
   ],
   "source": [
    "# Confusion matrix of training\n",
    "pd.crosstab(train_clusters[\"Predicted\"], train_clusters[\"Label\"])"
   ]
  },
  {
   "cell_type": "code",
   "execution_count": 36,
   "id": "82cd99ab",
   "metadata": {},
   "outputs": [
    {
     "data": {
      "text/html": [
       "<div>\n",
       "<style scoped>\n",
       "    .dataframe tbody tr th:only-of-type {\n",
       "        vertical-align: middle;\n",
       "    }\n",
       "\n",
       "    .dataframe tbody tr th {\n",
       "        vertical-align: top;\n",
       "    }\n",
       "\n",
       "    .dataframe thead th {\n",
       "        text-align: right;\n",
       "    }\n",
       "</style>\n",
       "<table border=\"1\" class=\"dataframe\">\n",
       "  <thead>\n",
       "    <tr style=\"text-align: right;\">\n",
       "      <th>Label</th>\n",
       "      <th>0</th>\n",
       "      <th>1</th>\n",
       "    </tr>\n",
       "    <tr>\n",
       "      <th>Predicted</th>\n",
       "      <th></th>\n",
       "      <th></th>\n",
       "    </tr>\n",
       "  </thead>\n",
       "  <tbody>\n",
       "    <tr>\n",
       "      <th>0</th>\n",
       "      <td>111</td>\n",
       "      <td>73</td>\n",
       "    </tr>\n",
       "    <tr>\n",
       "      <th>1</th>\n",
       "      <td>52</td>\n",
       "      <td>264</td>\n",
       "    </tr>\n",
       "  </tbody>\n",
       "</table>\n",
       "</div>"
      ],
      "text/plain": [
       "Label        0    1\n",
       "Predicted          \n",
       "0          111   73\n",
       "1           52  264"
      ]
     },
     "execution_count": 36,
     "metadata": {},
     "output_type": "execute_result"
    }
   ],
   "source": [
    "# Confusion matrix of test\n",
    "pd.crosstab(test_clusters[\"Predicted\"], test_clusters[\"Label\"])"
   ]
  },
  {
   "cell_type": "code",
   "execution_count": 37,
   "id": "4e65b27f",
   "metadata": {},
   "outputs": [
    {
     "data": {
      "text/plain": [
       "500"
      ]
     },
     "execution_count": 37,
     "metadata": {},
     "output_type": "execute_result"
    }
   ],
   "source": [
    "test_clusters.shape[0]"
   ]
  },
  {
   "cell_type": "code",
   "execution_count": 40,
   "id": "e2d0690c",
   "metadata": {},
   "outputs": [],
   "source": [
    "# Training accuracy\n",
    "acc_train = (\n",
    "    (pd.crosstab(train_clusters[\"Predicted\"], train_clusters[\"Label\"])[0][0]\n",
    "    + pd.crosstab(train_clusters[\"Predicted\"], train_clusters[\"Label\"])[1][1])/train_clusters.shape[0]\n",
    ")"
   ]
  },
  {
   "cell_type": "code",
   "execution_count": 41,
   "id": "a6915f80",
   "metadata": {},
   "outputs": [],
   "source": [
    "# Test accuracy\n",
    "acc_test = (\n",
    "    (pd.crosstab(test_clusters[\"Predicted\"], test_clusters[\"Label\"])[0][0]\n",
    "    + pd.crosstab(test_clusters[\"Predicted\"], test_clusters[\"Label\"])[1][1])/test_clusters.shape[0]\n",
    ")"
   ]
  },
  {
   "cell_type": "code",
   "execution_count": 42,
   "id": "155cdb8f",
   "metadata": {},
   "outputs": [
    {
     "name": "stdout",
     "output_type": "stream",
     "text": [
      "Train accuracy:  0.758\n",
      "\n",
      "\n",
      "Test accuracy:  0.75\n"
     ]
    }
   ],
   "source": [
    "# Accuracy\n",
    "print(\"Train accuracy: \", acc_train)\n",
    "print(\"\\n\")\n",
    "print(\"Test accuracy: \", acc_test)"
   ]
  },
  {
   "cell_type": "markdown",
   "id": "2c26c454",
   "metadata": {},
   "source": [
    "--------------------------"
   ]
  },
  {
   "cell_type": "markdown",
   "id": "dafe99e1",
   "metadata": {},
   "source": [
    "### K-means vs. Logistic Regression"
   ]
  },
  {
   "cell_type": "code",
   "execution_count": 46,
   "id": "4c570d7f",
   "metadata": {},
   "outputs": [
    {
     "name": "stdout",
     "output_type": "stream",
     "text": [
      "                 Generalized Linear Model Regression Results                  \n",
      "==============================================================================\n",
      "Dep. Variable:                  Label   No. Observations:                  500\n",
      "Model:                            GLM   Df Residuals:                      493\n",
      "Model Family:                Binomial   Df Model:                            6\n",
      "Link Function:                  logit   Scale:                          1.0000\n",
      "Method:                          IRLS   Log-Likelihood:                -221.23\n",
      "Date:                Sat, 04 Jun 2022   Deviance:                       442.46\n",
      "Time:                        17:06:19   Pearson chi2:                 8.77e+03\n",
      "No. Iterations:                     6                                         \n",
      "Covariance Type:            nonrobust                                         \n",
      "=================================================================================\n",
      "                    coef    std err          z      P>|z|      [0.025      0.975]\n",
      "---------------------------------------------------------------------------------\n",
      "const             1.8415      0.236      7.814      0.000       1.380       2.303\n",
      "CD               -0.0269      0.011     -2.504      0.012      -0.048      -0.006\n",
      "FW                0.0190      0.009      2.054      0.040       0.001       0.037\n",
      "PRP$             -0.0601      0.012     -5.040      0.000      -0.083      -0.037\n",
      "questionmarks    -0.4749      0.108     -4.416      0.000      -0.686      -0.264\n",
      "fullstops         0.0479      0.012      3.963      0.000       0.024       0.072\n",
      "WDT              -0.1097      0.052     -2.102      0.036      -0.212      -0.007\n",
      "=================================================================================\n"
     ]
    }
   ],
   "source": [
    "x_train = sm.add_constant(x_train)\n",
    "x_test = sm.add_constant(x_test)\n",
    "\n",
    "reg_log = sm.GLM(y_train, x_train, family = sm.families.Binomial());\n",
    "\n",
    "reg_log = reg_log.fit()\n",
    "\n",
    "print(reg_log.summary());"
   ]
  },
  {
   "cell_type": "code",
   "execution_count": 97,
   "id": "37f0e29d",
   "metadata": {},
   "outputs": [
    {
     "name": "stdout",
     "output_type": "stream",
     "text": [
      "                 Generalized Linear Model Regression Results                  \n",
      "==============================================================================\n",
      "Dep. Variable:                  Label   No. Observations:                  500\n",
      "Model:                            GLM   Df Residuals:                      493\n",
      "Model Family:                Binomial   Df Model:                            6\n",
      "Link Function:                  logit   Scale:                          1.0000\n",
      "Method:                          IRLS   Log-Likelihood:                -221.23\n",
      "Date:                Sat, 04 Jun 2022   Deviance:                       442.46\n",
      "Time:                        17:53:58   Pearson chi2:                 8.77e+03\n",
      "No. Iterations:                     6                                         \n",
      "Covariance Type:            nonrobust                                         \n",
      "=================================================================================\n",
      "                    coef    std err          z      P>|z|      [0.025      0.975]\n",
      "---------------------------------------------------------------------------------\n",
      "const             1.8415      0.236      7.814      0.000       1.380       2.303\n",
      "CD               -0.0269      0.011     -2.504      0.012      -0.048      -0.006\n",
      "FW                0.0190      0.009      2.054      0.040       0.001       0.037\n",
      "PRP$             -0.0601      0.012     -5.040      0.000      -0.083      -0.037\n",
      "questionmarks    -0.4749      0.108     -4.416      0.000      -0.686      -0.264\n",
      "fullstops         0.0479      0.012      3.963      0.000       0.024       0.072\n",
      "WDT              -0.1097      0.052     -2.102      0.036      -0.212      -0.007\n",
      "=================================================================================\n"
     ]
    }
   ],
   "source": [
    "# Retraining it with only significant variables\n",
    "x_train_ = sm.add_constant(x_train[[\"CD\", \"FW\", \"PRP$\", \"questionmarks\", \"fullstops\", \"WDT\"]])\n",
    "x_test_ = sm.add_constant(x_test[[\"CD\", \"FW\", \"PRP$\", \"questionmarks\", \"fullstops\", \"WDT\"]])\n",
    "\n",
    "reg_log = sm.GLM(y_train, x_train_, family = sm.families.Binomial());\n",
    "\n",
    "reg_log = reg_log.fit()\n",
    "\n",
    "print(reg_log.summary());"
   ]
  },
  {
   "cell_type": "code",
   "execution_count": 48,
   "id": "86c99134",
   "metadata": {},
   "outputs": [],
   "source": [
    "# Predict on the train and test data\n",
    "y_pred_train = reg_log.predict(x_train_)\n",
    "y_pred_test = reg_log.predict(x_test_)"
   ]
  },
  {
   "cell_type": "code",
   "execution_count": 49,
   "id": "317c93c8",
   "metadata": {},
   "outputs": [],
   "source": [
    "cutoff = 0.5"
   ]
  },
  {
   "cell_type": "code",
   "execution_count": 50,
   "id": "da72c644",
   "metadata": {},
   "outputs": [],
   "source": [
    "# Pre-process of the confusion matrix - data must be binary\n",
    "y_pred_train_bin = y_pred_train\n",
    "y_pred_test_bin = y_pred_test\n",
    "\n",
    "# Transforming all probabilities of the training\n",
    "for score in range(0, len(y_pred_train - 1)):\n",
    "    if y_pred_train.iloc[score] >= cutoff:\n",
    "        y_pred_train_bin.iloc[score] = 1\n",
    "    else:\n",
    "        y_pred_train_bin.iloc[score] = 0\n",
    "\n",
    "# Transforming all probabilities of the test\n",
    "for score in range(0, len(y_pred_test - 1)):\n",
    "    if y_pred_test.iloc[score] >= cutoff:\n",
    "        y_pred_test_bin.iloc[score] = 1\n",
    "    else:\n",
    "        y_pred_test_bin.iloc[score] = 0"
   ]
  },
  {
   "cell_type": "code",
   "execution_count": 51,
   "id": "5a948fc8",
   "metadata": {},
   "outputs": [
    {
     "name": "stdout",
     "output_type": "stream",
     "text": [
      "Training Confusion Matrix:\n",
      "[[138  64]\n",
      " [ 24 274]]\n",
      "\n",
      "\n",
      "Test Confusion Matrix\n",
      "[[ 97  66]\n",
      " [ 33 304]]\n"
     ]
    }
   ],
   "source": [
    "# Evaluating the training data\n",
    "print(\"Training Confusion Matrix:\")\n",
    "print(confusion_matrix(y_train, y_pred_train_bin))\n",
    "print(\"\\n\")\n",
    "\n",
    "# Evaluating the test data\n",
    "print(\"Test Confusion Matrix\")\n",
    "print(confusion_matrix(y_test, y_pred_test_bin))"
   ]
  },
  {
   "cell_type": "code",
   "execution_count": 52,
   "id": "94a0bc4c",
   "metadata": {},
   "outputs": [],
   "source": [
    "# Training accuracy\n",
    "acc_train_rlog = (\n",
    "    (confusion_matrix(y_train, y_pred_train_bin)[0][0]\n",
    "    + confusion_matrix(y_train, y_pred_train_bin)[1][1])/y_pred_train_bin.shape[0]\n",
    ")"
   ]
  },
  {
   "cell_type": "code",
   "execution_count": 53,
   "id": "6bdcdbe3",
   "metadata": {},
   "outputs": [],
   "source": [
    "# Test accuracy\n",
    "acc_test_rlog = (\n",
    "    (confusion_matrix(y_test, y_pred_test_bin)[0][0]\n",
    "    + confusion_matrix(y_test, y_pred_test_bin)[1][1])/y_pred_test_bin.shape[0]\n",
    ")"
   ]
  },
  {
   "cell_type": "code",
   "execution_count": 54,
   "id": "b9599292",
   "metadata": {},
   "outputs": [
    {
     "name": "stdout",
     "output_type": "stream",
     "text": [
      "Train accuracy:  0.824\n",
      "\n",
      "\n",
      "Test accuracy:  0.802\n"
     ]
    }
   ],
   "source": [
    "# Accuracy\n",
    "print(\"Train accuracy: \", acc_train_rlog)\n",
    "print(\"\\n\")\n",
    "print(\"Test accuracy: \", acc_test_rlog)"
   ]
  },
  {
   "cell_type": "markdown",
   "id": "2ba2aeaf",
   "metadata": {},
   "source": [
    "##### this rlog, with more variables, is not stable. It tends to overfit (difference between train and test accuracy increases)"
   ]
  },
  {
   "cell_type": "markdown",
   "id": "1aa0ece0",
   "metadata": {},
   "source": [
    "--------------------------------"
   ]
  },
  {
   "cell_type": "markdown",
   "id": "c885ad16",
   "metadata": {},
   "source": [
    "### Ensemble: kmeans PLUS logistic regression - one OR the other"
   ]
  },
  {
   "cell_type": "markdown",
   "id": "ea0bcff9",
   "metadata": {},
   "source": [
    "##### This ensemble may have two purposes:\n",
    "- stability gain\n",
    "- accuracy gain"
   ]
  },
  {
   "cell_type": "code",
   "execution_count": 79,
   "id": "78a905d1",
   "metadata": {},
   "outputs": [],
   "source": [
    "train_clusters[\"Ensemble\"] = y_pred_train_bin.values + train_clusters[\"Predicted\"]\n",
    "test_clusters[\"Ensemble\"] = y_pred_test_bin.values + test_clusters[\"Predicted\"]"
   ]
  },
  {
   "cell_type": "code",
   "execution_count": 80,
   "id": "e01f7efb",
   "metadata": {},
   "outputs": [
    {
     "data": {
      "text/html": [
       "<div>\n",
       "<style scoped>\n",
       "    .dataframe tbody tr th:only-of-type {\n",
       "        vertical-align: middle;\n",
       "    }\n",
       "\n",
       "    .dataframe tbody tr th {\n",
       "        vertical-align: top;\n",
       "    }\n",
       "\n",
       "    .dataframe thead th {\n",
       "        text-align: right;\n",
       "    }\n",
       "</style>\n",
       "<table border=\"1\" class=\"dataframe\">\n",
       "  <thead>\n",
       "    <tr style=\"text-align: right;\">\n",
       "      <th>Label</th>\n",
       "      <th>0</th>\n",
       "      <th>1</th>\n",
       "    </tr>\n",
       "    <tr>\n",
       "      <th>Ensemble</th>\n",
       "      <th></th>\n",
       "      <th></th>\n",
       "    </tr>\n",
       "  </thead>\n",
       "  <tbody>\n",
       "    <tr>\n",
       "      <th>0.0</th>\n",
       "      <td>126</td>\n",
       "      <td>22</td>\n",
       "    </tr>\n",
       "    <tr>\n",
       "      <th>1.0</th>\n",
       "      <td>36</td>\n",
       "      <td>49</td>\n",
       "    </tr>\n",
       "    <tr>\n",
       "      <th>2.0</th>\n",
       "      <td>40</td>\n",
       "      <td>227</td>\n",
       "    </tr>\n",
       "  </tbody>\n",
       "</table>\n",
       "</div>"
      ],
      "text/plain": [
       "Label       0    1\n",
       "Ensemble          \n",
       "0.0       126   22\n",
       "1.0        36   49\n",
       "2.0        40  227"
      ]
     },
     "execution_count": 80,
     "metadata": {},
     "output_type": "execute_result"
    }
   ],
   "source": [
    "pd.crosstab(train_clusters[\"Ensemble\"], train_clusters[\"Label\"])"
   ]
  },
  {
   "cell_type": "markdown",
   "id": "d8884257",
   "metadata": {},
   "source": [
    "##### The observations with the value 1 are inconclusive. I could stop my ensemble here to investigate these observations"
   ]
  },
  {
   "cell_type": "code",
   "execution_count": 81,
   "id": "4fab4900",
   "metadata": {},
   "outputs": [],
   "source": [
    "train_clusters[\"Ensemble\"] = np.where(train_clusters[\"Ensemble\"] > 0, 1, 0)\n",
    "test_clusters[\"Ensemble\"] = np.where(test_clusters[\"Ensemble\"] > 0, 1, 0)"
   ]
  },
  {
   "cell_type": "code",
   "execution_count": 85,
   "id": "53621156",
   "metadata": {},
   "outputs": [],
   "source": [
    "# Training accuracy\n",
    "acc_train_em = (\n",
    "    (pd.crosstab(train_clusters[\"Ensemble\"], train_clusters[\"Label\"])[0][0]\n",
    "    + pd.crosstab(train_clusters[\"Ensemble\"], train_clusters[\"Label\"])[1][1])/train_clusters.shape[0]\n",
    ")"
   ]
  },
  {
   "cell_type": "code",
   "execution_count": 86,
   "id": "9fa39a5b",
   "metadata": {},
   "outputs": [],
   "source": [
    "# Test accuracy\n",
    "acc_test_em = (\n",
    "    (pd.crosstab(test_clusters[\"Ensemble\"], test_clusters[\"Label\"])[0][0]\n",
    "    + pd.crosstab(test_clusters[\"Ensemble\"], test_clusters[\"Label\"])[1][1])/test_clusters.shape[0]\n",
    ")"
   ]
  },
  {
   "cell_type": "code",
   "execution_count": 87,
   "id": "915358b2",
   "metadata": {},
   "outputs": [
    {
     "name": "stdout",
     "output_type": "stream",
     "text": [
      "Train accuracy:  0.804\n",
      "\n",
      "\n",
      "Test accuracy:  0.788\n"
     ]
    }
   ],
   "source": [
    "# Accuracy\n",
    "print(\"Train accuracy: \", acc_train_em)\n",
    "print(\"\\n\")\n",
    "print(\"Test accuracy: \", acc_test_em)"
   ]
  },
  {
   "cell_type": "code",
   "execution_count": 89,
   "id": "acfe1600",
   "metadata": {},
   "outputs": [
    {
     "data": {
      "text/html": [
       "<div>\n",
       "<style scoped>\n",
       "    .dataframe tbody tr th:only-of-type {\n",
       "        vertical-align: middle;\n",
       "    }\n",
       "\n",
       "    .dataframe tbody tr th {\n",
       "        vertical-align: top;\n",
       "    }\n",
       "\n",
       "    .dataframe thead th {\n",
       "        text-align: right;\n",
       "    }\n",
       "</style>\n",
       "<table border=\"1\" class=\"dataframe\">\n",
       "  <thead>\n",
       "    <tr style=\"text-align: right;\">\n",
       "      <th>Label</th>\n",
       "      <th>0</th>\n",
       "      <th>1</th>\n",
       "    </tr>\n",
       "    <tr>\n",
       "      <th>Ensemble</th>\n",
       "      <th></th>\n",
       "      <th></th>\n",
       "    </tr>\n",
       "  </thead>\n",
       "  <tbody>\n",
       "    <tr>\n",
       "      <th>0</th>\n",
       "      <td>84</td>\n",
       "      <td>27</td>\n",
       "    </tr>\n",
       "    <tr>\n",
       "      <th>1</th>\n",
       "      <td>79</td>\n",
       "      <td>310</td>\n",
       "    </tr>\n",
       "  </tbody>\n",
       "</table>\n",
       "</div>"
      ],
      "text/plain": [
       "Label      0    1\n",
       "Ensemble         \n",
       "0         84   27\n",
       "1         79  310"
      ]
     },
     "execution_count": 89,
     "metadata": {},
     "output_type": "execute_result"
    }
   ],
   "source": [
    "pd.crosstab(test_clusters[\"Ensemble\"], test_clusters[\"Label\"])"
   ]
  },
  {
   "cell_type": "markdown",
   "id": "99e61865",
   "metadata": {},
   "source": [
    "---------------------------------------"
   ]
  },
  {
   "cell_type": "markdown",
   "id": "2c401600",
   "metadata": {},
   "source": [
    "### Ensemble: kmeans WITH logistic regression"
   ]
  },
  {
   "cell_type": "markdown",
   "id": "1da765fa",
   "metadata": {},
   "source": [
    "- Inserting the KMeans into the logistic regression"
   ]
  },
  {
   "cell_type": "code",
   "execution_count": 91,
   "id": "03897144",
   "metadata": {},
   "outputs": [],
   "source": [
    "all_clusters = kmodel.predict(articles.drop([\"TextID\", \"URL\", \"Label\"], axis = 1))"
   ]
  },
  {
   "cell_type": "code",
   "execution_count": 92,
   "id": "dd0d623a",
   "metadata": {},
   "outputs": [],
   "source": [
    "new_articles = articles\n",
    "new_articles[\"Cluster\"] = all_clusters"
   ]
  },
  {
   "cell_type": "code",
   "execution_count": 93,
   "id": "ffae44ec",
   "metadata": {},
   "outputs": [],
   "source": [
    "# Split the data into x and y\n",
    "x = new_articles.drop([\"TextID\", \"URL\", \"Label\"], axis = 1)\n",
    "y = new_articles[\"Label\"]\n",
    "\n",
    "# Split it into training and test\n",
    "x_train, x_test, y_train, y_test = train_test_split(x ,y, test_size = 0.5, random_state = 42)"
   ]
  },
  {
   "cell_type": "code",
   "execution_count": 94,
   "id": "16cffabc",
   "metadata": {},
   "outputs": [
    {
     "name": "stdout",
     "output_type": "stream",
     "text": [
      "                 Generalized Linear Model Regression Results                  \n",
      "==============================================================================\n",
      "Dep. Variable:                  Label   No. Observations:                  500\n",
      "Model:                            GLM   Df Residuals:                      446\n",
      "Model Family:                Binomial   Df Model:                           53\n",
      "Link Function:                  logit   Scale:                          1.0000\n",
      "Method:                          IRLS   Log-Likelihood:                -158.61\n",
      "Date:                Sat, 04 Jun 2022   Deviance:                       317.21\n",
      "Time:                        17:51:10   Pearson chi2:                 6.32e+06\n",
      "No. Iterations:                    19                                         \n",
      "Covariance Type:            nonrobust                                         \n",
      "=====================================================================================\n",
      "                        coef    std err          z      P>|z|      [0.025      0.975]\n",
      "-------------------------------------------------------------------------------------\n",
      "const                19.6700   1.77e+04      0.001      0.999   -3.47e+04    3.48e+04\n",
      "totalWordsCount       0.0261      0.019      1.413      0.158      -0.010       0.062\n",
      "semanticobjscore      0.0278      0.022      1.268      0.205      -0.015       0.071\n",
      "semanticsubjscore    -0.0456      0.035     -1.293      0.196      -0.115       0.024\n",
      "CC                    0.0097      0.026      0.376      0.707      -0.041       0.060\n",
      "CD                   -0.0865      0.026     -3.264      0.001      -0.138      -0.035\n",
      "DT                    0.0496      0.136      0.366      0.715      -0.216       0.315\n",
      "EX                   -0.0506      0.029     -1.761      0.078      -0.107       0.006\n",
      "FW                   -0.0657      0.028     -2.321      0.020      -0.121      -0.010\n",
      "INs                  -0.0291      0.028     -1.051      0.293      -0.083       0.025\n",
      "JJ                    0.2304    158.130      0.001      0.999    -309.700     310.160\n",
      "JJR                   0.0957    158.130      0.001      1.000    -309.834     310.026\n",
      "JJS                  -0.3293      1.528     -0.216      0.829      -3.324       2.665\n",
      "LS                   -0.0272      0.065     -0.415      0.678      -0.156       0.101\n",
      "MD                   -0.0187      0.020     -0.929      0.353      -0.058       0.021\n",
      "NN                    0.1569      0.079      1.978      0.048       0.001       0.312\n",
      "NNP                 1.03e-13   1.19e-09   8.67e-05      1.000   -2.33e-09    2.33e-09\n",
      "NNPS                 -0.0328      0.025     -1.288      0.198      -0.083       0.017\n",
      "NNS                   0.1168      0.284      0.412      0.680      -0.439       0.673\n",
      "PDT                  -0.0842      0.064     -1.316      0.188      -0.210       0.041\n",
      "POS                  -0.0359      0.054     -0.669      0.504      -0.141       0.069\n",
      "PRP                  -0.0099      0.059     -0.169      0.866      -0.125       0.105\n",
      "PRP$                 -0.0899      0.027     -3.277      0.001      -0.144      -0.036\n",
      "RB                    0.2265    158.130      0.001      0.999    -309.703     310.157\n",
      "RBR                   0.0163    158.131      0.000      1.000    -309.914     309.947\n",
      "RBS                   0.0994      0.082      1.210      0.226      -0.062       0.261\n",
      "RP                   -0.0488      0.122     -0.398      0.690      -0.289       0.191\n",
      "SYM                  -0.0022      0.047     -0.048      0.962      -0.094       0.089\n",
      "TOs                  -0.8713      0.951     -0.916      0.359      -2.735       0.992\n",
      "UH                    0.8718    889.483      0.001      0.999   -1742.484    1744.227\n",
      "VB                   -0.3131    296.494     -0.001      0.999    -581.432     580.805\n",
      "VBD                   0.0520      0.038      1.368      0.171      -0.022       0.126\n",
      "VBG                   0.0282      0.039      0.725      0.468      -0.048       0.104\n",
      "VBN                  -0.4332    395.326     -0.001      0.999    -775.258     774.391\n",
      "VBP                  -0.7781    691.820     -0.001      0.999   -1356.721    1355.165\n",
      "VBZ                   0.0424      0.099      0.427      0.669      -0.152       0.237\n",
      "WDT                  -0.1611      0.086     -1.879      0.060      -0.329       0.007\n",
      "WP                   -0.6709      0.474     -1.414      0.157      -1.601       0.259\n",
      "WP$                  -0.0410      0.082     -0.499      0.618      -0.202       0.120\n",
      "WRB               -1.913e-13   9.98e-10     -0.000      1.000   -1.96e-09    1.96e-09\n",
      "baseform              0.0195      0.039      0.506      0.613      -0.056       0.095\n",
      "Quotes                0.0801      0.070      1.146      0.252      -0.057       0.217\n",
      "questionmarks        -0.2621      0.150     -1.750      0.080      -0.555       0.031\n",
      "exclamationmarks     -0.1474      0.185     -0.797      0.426      -0.510       0.215\n",
      "fullstops             0.0602      0.031      1.931      0.053      -0.001       0.121\n",
      "commas                0.0035      0.029      0.120      0.905      -0.053       0.060\n",
      "semicolon            -0.0583      0.185     -0.315      0.753      -0.421       0.304\n",
      "colon                 0.0089      0.078      0.113      0.910      -0.144       0.162\n",
      "ellipsis             -0.6260    592.989     -0.001      0.999   -1162.863    1161.611\n",
      "pronouns1st           0.0509      0.057      0.894      0.371      -0.061       0.162\n",
      "pronouns2nd           0.0470      0.066      0.713      0.476      -0.082       0.176\n",
      "pronouns3rd          -0.0058      0.045     -0.128      0.898      -0.095       0.083\n",
      "compsupadjadv        -0.2658    158.130     -0.002      0.999    -310.196     309.664\n",
      "past                  0.3130    296.494      0.001      0.999    -580.806     581.432\n",
      "imperative           -1.0063    889.483     -0.001      0.999   -1744.362    1742.349\n",
      "present3rd            0.6827    691.820      0.001      0.999   -1355.261    1356.626\n",
      "present1st2nd         0.4015    395.326      0.001      0.999    -774.423     775.226\n",
      "sentence1st           0.8244      0.584      1.413      0.158      -0.320       1.968\n",
      "sentencelast        -19.5735   1.77e+04     -0.001      0.999   -3.48e+04    3.47e+04\n",
      "txtcomplexity         0.0595      0.041      1.438      0.150      -0.022       0.141\n",
      "Cluster              -0.1916      0.126     -1.525      0.127      -0.438       0.055\n",
      "=====================================================================================\n"
     ]
    }
   ],
   "source": [
    "# The model\n",
    "x_train_ = sm.add_constant(x_train)\n",
    "x_test_ = sm.add_constant(x_test)\n",
    "\n",
    "reg_log = sm.GLM(y_train, x_train_, family = sm.families.Binomial());\n",
    "\n",
    "reg_log = reg_log.fit()\n",
    "\n",
    "print(reg_log.summary());"
   ]
  },
  {
   "cell_type": "code",
   "execution_count": 98,
   "id": "92b39568",
   "metadata": {},
   "outputs": [
    {
     "name": "stdout",
     "output_type": "stream",
     "text": [
      "                 Generalized Linear Model Regression Results                  \n",
      "==============================================================================\n",
      "Dep. Variable:                  Label   No. Observations:                  500\n",
      "Model:                            GLM   Df Residuals:                      492\n",
      "Model Family:                Binomial   Df Model:                            7\n",
      "Link Function:                  logit   Scale:                          1.0000\n",
      "Method:                          IRLS   Log-Likelihood:                -220.73\n",
      "Date:                Sat, 04 Jun 2022   Deviance:                       441.45\n",
      "Time:                        17:54:17   Pearson chi2:                 8.78e+03\n",
      "No. Iterations:                     6                                         \n",
      "Covariance Type:            nonrobust                                         \n",
      "=================================================================================\n",
      "                    coef    std err          z      P>|z|      [0.025      0.975]\n",
      "---------------------------------------------------------------------------------\n",
      "const             1.9782      0.276      7.170      0.000       1.437       2.519\n",
      "CD               -0.0269      0.011     -2.529      0.011      -0.048      -0.006\n",
      "FW                0.0194      0.009      2.107      0.035       0.001       0.037\n",
      "PRP$             -0.0599      0.012     -5.046      0.000      -0.083      -0.037\n",
      "questionmarks    -0.4706      0.107     -4.397      0.000      -0.680      -0.261\n",
      "fullstops         0.0484      0.012      4.037      0.000       0.025       0.072\n",
      "WDT              -0.1022      0.052     -1.953      0.051      -0.205       0.000\n",
      "Cluster          -0.0863      0.086     -1.008      0.314      -0.254       0.082\n",
      "=================================================================================\n"
     ]
    }
   ],
   "source": [
    "# Retraining it with only significant variables\n",
    "x_train_ = sm.add_constant(x_train[[\"CD\", \"FW\", \"PRP$\", \"questionmarks\", \"fullstops\", \"WDT\", \"Cluster\"]])\n",
    "x_test_ = sm.add_constant(x_test[[\"CD\", \"FW\", \"PRP$\", \"questionmarks\", \"fullstops\", \"WDT\", \"Cluster\"]])\n",
    "\n",
    "reg_log = sm.GLM(y_train, x_train_, family = sm.families.Binomial());\n",
    "\n",
    "reg_log = reg_log.fit()\n",
    "\n",
    "print(reg_log.summary());"
   ]
  },
  {
   "cell_type": "code",
   "execution_count": 99,
   "id": "3c75a9db",
   "metadata": {},
   "outputs": [],
   "source": [
    "# Predict on the train and test data\n",
    "y_pred_train = reg_log.predict(x_train_)\n",
    "y_pred_test = reg_log.predict(x_test_)"
   ]
  },
  {
   "cell_type": "code",
   "execution_count": 100,
   "id": "971bb6f7",
   "metadata": {},
   "outputs": [],
   "source": [
    "cutoff = 0.5"
   ]
  },
  {
   "cell_type": "code",
   "execution_count": 101,
   "id": "a77a229b",
   "metadata": {},
   "outputs": [],
   "source": [
    "# Pre-process of the confusion matrix - data must be binary\n",
    "y_pred_train_bin = y_pred_train\n",
    "y_pred_test_bin = y_pred_test\n",
    "\n",
    "# Transforming all probabilities of the training\n",
    "for score in range(0, len(y_pred_train - 1)):\n",
    "    if y_pred_train.iloc[score] >= cutoff:\n",
    "        y_pred_train_bin.iloc[score] = 1\n",
    "    else:\n",
    "        y_pred_train_bin.iloc[score] = 0\n",
    "\n",
    "# Transforming all probabilities of the test\n",
    "for score in range(0, len(y_pred_test - 1)):\n",
    "    if y_pred_test.iloc[score] >= cutoff:\n",
    "        y_pred_test_bin.iloc[score] = 1\n",
    "    else:\n",
    "        y_pred_test_bin.iloc[score] = 0"
   ]
  },
  {
   "cell_type": "code",
   "execution_count": 102,
   "id": "d7a43335",
   "metadata": {},
   "outputs": [
    {
     "name": "stdout",
     "output_type": "stream",
     "text": [
      "Training Confusion Matrix:\n",
      "[[139  63]\n",
      " [ 22 276]]\n",
      "\n",
      "\n",
      "Test Confusion Matrix\n",
      "[[ 97  66]\n",
      " [ 34 303]]\n"
     ]
    }
   ],
   "source": [
    "# Evaluating the training data\n",
    "print(\"Training Confusion Matrix:\")\n",
    "print(confusion_matrix(y_train, y_pred_train_bin))\n",
    "print(\"\\n\")\n",
    "\n",
    "# Evaluating the test data\n",
    "print(\"Test Confusion Matrix\")\n",
    "print(confusion_matrix(y_test, y_pred_test_bin))"
   ]
  },
  {
   "cell_type": "code",
   "execution_count": 103,
   "id": "c8460c48",
   "metadata": {},
   "outputs": [],
   "source": [
    "# Training accuracy\n",
    "acc_train_rlog = (\n",
    "    (confusion_matrix(y_train, y_pred_train_bin)[0][0]\n",
    "    + confusion_matrix(y_train, y_pred_train_bin)[1][1])/y_pred_train_bin.shape[0]\n",
    ")"
   ]
  },
  {
   "cell_type": "code",
   "execution_count": 104,
   "id": "c6becd6e",
   "metadata": {},
   "outputs": [],
   "source": [
    "# Test accuracy\n",
    "acc_test_rlog = (\n",
    "    (confusion_matrix(y_test, y_pred_test_bin)[0][0]\n",
    "    + confusion_matrix(y_test, y_pred_test_bin)[1][1])/y_pred_test_bin.shape[0]\n",
    ")"
   ]
  },
  {
   "cell_type": "code",
   "execution_count": 105,
   "id": "62aafd48",
   "metadata": {},
   "outputs": [
    {
     "name": "stdout",
     "output_type": "stream",
     "text": [
      "Train accuracy:  0.83\n",
      "\n",
      "\n",
      "Test accuracy:  0.8\n"
     ]
    }
   ],
   "source": [
    "# Accuracy\n",
    "print(\"Train accuracy: \", acc_train_rlog)\n",
    "print(\"\\n\")\n",
    "print(\"Test accuracy: \", acc_test_rlog)"
   ]
  }
 ],
 "metadata": {
  "kernelspec": {
   "display_name": "Python 3",
   "language": "python",
   "name": "python3"
  },
  "language_info": {
   "codemirror_mode": {
    "name": "ipython",
    "version": 3
   },
   "file_extension": ".py",
   "mimetype": "text/x-python",
   "name": "python",
   "nbconvert_exporter": "python",
   "pygments_lexer": "ipython3",
   "version": "3.8.8"
  }
 },
 "nbformat": 4,
 "nbformat_minor": 5
}
